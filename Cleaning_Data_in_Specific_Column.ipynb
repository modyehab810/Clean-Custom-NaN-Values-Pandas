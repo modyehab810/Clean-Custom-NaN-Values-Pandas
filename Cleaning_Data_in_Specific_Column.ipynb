{
 "cells": [
  {
   "cell_type": "markdown",
   "id": "f9e50e25",
   "metadata": {},
   "source": [
    "### Importing Libraries"
   ]
  },
  {
   "cell_type": "code",
   "execution_count": 12,
   "id": "d00d223d",
   "metadata": {},
   "outputs": [],
   "source": [
    "import pandas as pd\n",
    "import numpy as np"
   ]
  },
  {
   "cell_type": "markdown",
   "id": "a29bcae4",
   "metadata": {},
   "source": [
    "### Create DataFrame"
   ]
  },
  {
   "cell_type": "code",
   "execution_count": 13,
   "id": "021ec4ab",
   "metadata": {},
   "outputs": [],
   "source": [
    "students = {\n",
    "    \"id\": [1620, 1621, 1622, 1623, np.nan, 1625, 1626, np.nan],\n",
    "    \"first_name\": [\"Muhammad\", \"Ahmed\", \"NNNN\", \"Mustafa\", \"Marwan\", \"Muhammad\", \"NNNN\", \"Amr\"],\n",
    "    \"last_name\": [\"Khalil\", \"Saleh\", \"Muhammad\", \"Saad\", \"Radwan\", \"N.A\", \"Hatem\", \"Gaber\"],\n",
    "    \"level\": [4, 2, 3, \"n.a\", 2, 3, 4, np.nan],\n",
    "}"
   ]
  },
  {
   "cell_type": "code",
   "execution_count": 14,
   "id": "7e26c90f",
   "metadata": {},
   "outputs": [
    {
     "data": {
      "text/html": [
       "<div>\n",
       "<style scoped>\n",
       "    .dataframe tbody tr th:only-of-type {\n",
       "        vertical-align: middle;\n",
       "    }\n",
       "\n",
       "    .dataframe tbody tr th {\n",
       "        vertical-align: top;\n",
       "    }\n",
       "\n",
       "    .dataframe thead th {\n",
       "        text-align: right;\n",
       "    }\n",
       "</style>\n",
       "<table border=\"1\" class=\"dataframe\">\n",
       "  <thead>\n",
       "    <tr style=\"text-align: right;\">\n",
       "      <th></th>\n",
       "      <th>id</th>\n",
       "      <th>first_name</th>\n",
       "      <th>last_name</th>\n",
       "      <th>level</th>\n",
       "    </tr>\n",
       "  </thead>\n",
       "  <tbody>\n",
       "    <tr>\n",
       "      <th>0</th>\n",
       "      <td>1620.0</td>\n",
       "      <td>Muhammad</td>\n",
       "      <td>Khalil</td>\n",
       "      <td>4</td>\n",
       "    </tr>\n",
       "    <tr>\n",
       "      <th>1</th>\n",
       "      <td>1621.0</td>\n",
       "      <td>Ahmed</td>\n",
       "      <td>Saleh</td>\n",
       "      <td>2</td>\n",
       "    </tr>\n",
       "    <tr>\n",
       "      <th>2</th>\n",
       "      <td>1622.0</td>\n",
       "      <td>NNNN</td>\n",
       "      <td>Muhammad</td>\n",
       "      <td>3</td>\n",
       "    </tr>\n",
       "    <tr>\n",
       "      <th>3</th>\n",
       "      <td>1623.0</td>\n",
       "      <td>Mustafa</td>\n",
       "      <td>Saad</td>\n",
       "      <td>n.a</td>\n",
       "    </tr>\n",
       "    <tr>\n",
       "      <th>4</th>\n",
       "      <td>NaN</td>\n",
       "      <td>Marwan</td>\n",
       "      <td>Radwan</td>\n",
       "      <td>2</td>\n",
       "    </tr>\n",
       "    <tr>\n",
       "      <th>5</th>\n",
       "      <td>1625.0</td>\n",
       "      <td>Muhammad</td>\n",
       "      <td>N.A</td>\n",
       "      <td>3</td>\n",
       "    </tr>\n",
       "    <tr>\n",
       "      <th>6</th>\n",
       "      <td>1626.0</td>\n",
       "      <td>NNNN</td>\n",
       "      <td>Hatem</td>\n",
       "      <td>4</td>\n",
       "    </tr>\n",
       "    <tr>\n",
       "      <th>7</th>\n",
       "      <td>NaN</td>\n",
       "      <td>Amr</td>\n",
       "      <td>Gaber</td>\n",
       "      <td>NaN</td>\n",
       "    </tr>\n",
       "  </tbody>\n",
       "</table>\n",
       "</div>"
      ],
      "text/plain": [
       "       id first_name last_name level\n",
       "0  1620.0   Muhammad    Khalil     4\n",
       "1  1621.0      Ahmed     Saleh     2\n",
       "2  1622.0       NNNN  Muhammad     3\n",
       "3  1623.0    Mustafa      Saad   n.a\n",
       "4     NaN     Marwan    Radwan     2\n",
       "5  1625.0   Muhammad       N.A     3\n",
       "6  1626.0       NNNN     Hatem     4\n",
       "7     NaN        Amr     Gaber   NaN"
      ]
     },
     "execution_count": 14,
     "metadata": {},
     "output_type": "execute_result"
    }
   ],
   "source": [
    "df = pd.DataFrame(students)\n",
    "df"
   ]
  },
  {
   "cell_type": "markdown",
   "id": "3044a95d",
   "metadata": {},
   "source": [
    "###  Handling Missing id"
   ]
  },
  {
   "cell_type": "code",
   "execution_count": 15,
   "id": "055efdef",
   "metadata": {},
   "outputs": [
    {
     "data": {
      "text/plain": [
       "array([1620, 1621, 1622, 1623, 1624, 1625, 1626, 1627])"
      ]
     },
     "execution_count": 15,
     "metadata": {},
     "output_type": "execute_result"
    }
   ],
   "source": [
    "# Craete a range of ids in ordered way\n",
    "ids = np.arange(1620, 1620 + df.shape[0])\n",
    "ids"
   ]
  },
  {
   "cell_type": "code",
   "execution_count": 16,
   "id": "cc425c83",
   "metadata": {},
   "outputs": [],
   "source": [
    "# Beacuse Assuming That Ids are in order way\n",
    "df[\"id\"] = ids\n"
   ]
  },
  {
   "cell_type": "code",
   "execution_count": 17,
   "id": "2601bc44",
   "metadata": {},
   "outputs": [],
   "source": [
    "df.set_index(\"id\", inplace=True)"
   ]
  },
  {
   "cell_type": "code",
   "execution_count": 18,
   "id": "28dbba5b",
   "metadata": {},
   "outputs": [
    {
     "data": {
      "text/html": [
       "<div>\n",
       "<style scoped>\n",
       "    .dataframe tbody tr th:only-of-type {\n",
       "        vertical-align: middle;\n",
       "    }\n",
       "\n",
       "    .dataframe tbody tr th {\n",
       "        vertical-align: top;\n",
       "    }\n",
       "\n",
       "    .dataframe thead th {\n",
       "        text-align: right;\n",
       "    }\n",
       "</style>\n",
       "<table border=\"1\" class=\"dataframe\">\n",
       "  <thead>\n",
       "    <tr style=\"text-align: right;\">\n",
       "      <th></th>\n",
       "      <th>first_name</th>\n",
       "      <th>last_name</th>\n",
       "      <th>level</th>\n",
       "    </tr>\n",
       "    <tr>\n",
       "      <th>id</th>\n",
       "      <th></th>\n",
       "      <th></th>\n",
       "      <th></th>\n",
       "    </tr>\n",
       "  </thead>\n",
       "  <tbody>\n",
       "    <tr>\n",
       "      <th>1620</th>\n",
       "      <td>Muhammad</td>\n",
       "      <td>Khalil</td>\n",
       "      <td>4</td>\n",
       "    </tr>\n",
       "    <tr>\n",
       "      <th>1621</th>\n",
       "      <td>Ahmed</td>\n",
       "      <td>Saleh</td>\n",
       "      <td>2</td>\n",
       "    </tr>\n",
       "    <tr>\n",
       "      <th>1622</th>\n",
       "      <td>NNNN</td>\n",
       "      <td>Muhammad</td>\n",
       "      <td>3</td>\n",
       "    </tr>\n",
       "    <tr>\n",
       "      <th>1623</th>\n",
       "      <td>Mustafa</td>\n",
       "      <td>Saad</td>\n",
       "      <td>n.a</td>\n",
       "    </tr>\n",
       "    <tr>\n",
       "      <th>1624</th>\n",
       "      <td>Marwan</td>\n",
       "      <td>Radwan</td>\n",
       "      <td>2</td>\n",
       "    </tr>\n",
       "    <tr>\n",
       "      <th>1625</th>\n",
       "      <td>Muhammad</td>\n",
       "      <td>N.A</td>\n",
       "      <td>3</td>\n",
       "    </tr>\n",
       "    <tr>\n",
       "      <th>1626</th>\n",
       "      <td>NNNN</td>\n",
       "      <td>Hatem</td>\n",
       "      <td>4</td>\n",
       "    </tr>\n",
       "    <tr>\n",
       "      <th>1627</th>\n",
       "      <td>Amr</td>\n",
       "      <td>Gaber</td>\n",
       "      <td>NaN</td>\n",
       "    </tr>\n",
       "  </tbody>\n",
       "</table>\n",
       "</div>"
      ],
      "text/plain": [
       "     first_name last_name level\n",
       "id                             \n",
       "1620   Muhammad    Khalil     4\n",
       "1621      Ahmed     Saleh     2\n",
       "1622       NNNN  Muhammad     3\n",
       "1623    Mustafa      Saad   n.a\n",
       "1624     Marwan    Radwan     2\n",
       "1625   Muhammad       N.A     3\n",
       "1626       NNNN     Hatem     4\n",
       "1627        Amr     Gaber   NaN"
      ]
     },
     "execution_count": 18,
     "metadata": {},
     "output_type": "execute_result"
    }
   ],
   "source": [
    "df"
   ]
  },
  {
   "cell_type": "markdown",
   "id": "437d96ce",
   "metadata": {},
   "source": [
    "### Handling Other Columns"
   ]
  },
  {
   "cell_type": "code",
   "execution_count": 19,
   "id": "ac524763",
   "metadata": {},
   "outputs": [],
   "source": [
    "# Handling custome NaN Values In Each Column Using Dummy Custom Values\n",
    "# You Can Change It by Values Suitable For You\n",
    "df.replace({\n",
    "    \"first_name\": \"NNNN\",\n",
    "    \"last_name\": \"N.A\", \n",
    "    \"level\": [\"n.a\", np.nan]\n",
    "    \n",
    "}, value={\n",
    "    \"first_name\": np.nan, \"last_name\": np.nan, \"level\": 0\n",
    "}, inplace=True)"
   ]
  },
  {
   "cell_type": "code",
   "execution_count": 21,
   "id": "43f0a041",
   "metadata": {},
   "outputs": [],
   "source": [
    "df[\"level\"] = df[\"level\"].astype(np.int16)"
   ]
  },
  {
   "cell_type": "code",
   "execution_count": 22,
   "id": "033ab848",
   "metadata": {},
   "outputs": [
    {
     "data": {
      "text/html": [
       "<div>\n",
       "<style scoped>\n",
       "    .dataframe tbody tr th:only-of-type {\n",
       "        vertical-align: middle;\n",
       "    }\n",
       "\n",
       "    .dataframe tbody tr th {\n",
       "        vertical-align: top;\n",
       "    }\n",
       "\n",
       "    .dataframe thead th {\n",
       "        text-align: right;\n",
       "    }\n",
       "</style>\n",
       "<table border=\"1\" class=\"dataframe\">\n",
       "  <thead>\n",
       "    <tr style=\"text-align: right;\">\n",
       "      <th></th>\n",
       "      <th>first_name</th>\n",
       "      <th>last_name</th>\n",
       "      <th>level</th>\n",
       "    </tr>\n",
       "    <tr>\n",
       "      <th>id</th>\n",
       "      <th></th>\n",
       "      <th></th>\n",
       "      <th></th>\n",
       "    </tr>\n",
       "  </thead>\n",
       "  <tbody>\n",
       "    <tr>\n",
       "      <th>1620</th>\n",
       "      <td>Muhammad</td>\n",
       "      <td>Khalil</td>\n",
       "      <td>4</td>\n",
       "    </tr>\n",
       "    <tr>\n",
       "      <th>1621</th>\n",
       "      <td>Ahmed</td>\n",
       "      <td>Saleh</td>\n",
       "      <td>2</td>\n",
       "    </tr>\n",
       "    <tr>\n",
       "      <th>1622</th>\n",
       "      <td>NaN</td>\n",
       "      <td>Muhammad</td>\n",
       "      <td>3</td>\n",
       "    </tr>\n",
       "    <tr>\n",
       "      <th>1623</th>\n",
       "      <td>Mustafa</td>\n",
       "      <td>Saad</td>\n",
       "      <td>0</td>\n",
       "    </tr>\n",
       "    <tr>\n",
       "      <th>1624</th>\n",
       "      <td>Marwan</td>\n",
       "      <td>Radwan</td>\n",
       "      <td>2</td>\n",
       "    </tr>\n",
       "    <tr>\n",
       "      <th>1625</th>\n",
       "      <td>Muhammad</td>\n",
       "      <td>NaN</td>\n",
       "      <td>3</td>\n",
       "    </tr>\n",
       "    <tr>\n",
       "      <th>1626</th>\n",
       "      <td>NaN</td>\n",
       "      <td>Hatem</td>\n",
       "      <td>4</td>\n",
       "    </tr>\n",
       "    <tr>\n",
       "      <th>1627</th>\n",
       "      <td>Amr</td>\n",
       "      <td>Gaber</td>\n",
       "      <td>0</td>\n",
       "    </tr>\n",
       "  </tbody>\n",
       "</table>\n",
       "</div>"
      ],
      "text/plain": [
       "     first_name last_name  level\n",
       "id                              \n",
       "1620   Muhammad    Khalil      4\n",
       "1621      Ahmed     Saleh      2\n",
       "1622        NaN  Muhammad      3\n",
       "1623    Mustafa      Saad      0\n",
       "1624     Marwan    Radwan      2\n",
       "1625   Muhammad       NaN      3\n",
       "1626        NaN     Hatem      4\n",
       "1627        Amr     Gaber      0"
      ]
     },
     "execution_count": 22,
     "metadata": {},
     "output_type": "execute_result"
    }
   ],
   "source": [
    "df"
   ]
  },
  {
   "cell_type": "markdown",
   "id": "3b71c69f",
   "metadata": {},
   "source": [
    "### Drop Records That Contain NaN"
   ]
  },
  {
   "cell_type": "code",
   "execution_count": 25,
   "id": "2de7c0cd",
   "metadata": {},
   "outputs": [
    {
     "data": {
      "text/html": [
       "<div>\n",
       "<style scoped>\n",
       "    .dataframe tbody tr th:only-of-type {\n",
       "        vertical-align: middle;\n",
       "    }\n",
       "\n",
       "    .dataframe tbody tr th {\n",
       "        vertical-align: top;\n",
       "    }\n",
       "\n",
       "    .dataframe thead th {\n",
       "        text-align: right;\n",
       "    }\n",
       "</style>\n",
       "<table border=\"1\" class=\"dataframe\">\n",
       "  <thead>\n",
       "    <tr style=\"text-align: right;\">\n",
       "      <th></th>\n",
       "      <th>first_name</th>\n",
       "      <th>last_name</th>\n",
       "      <th>level</th>\n",
       "    </tr>\n",
       "    <tr>\n",
       "      <th>id</th>\n",
       "      <th></th>\n",
       "      <th></th>\n",
       "      <th></th>\n",
       "    </tr>\n",
       "  </thead>\n",
       "  <tbody>\n",
       "    <tr>\n",
       "      <th>1620</th>\n",
       "      <td>Muhammad</td>\n",
       "      <td>Khalil</td>\n",
       "      <td>4</td>\n",
       "    </tr>\n",
       "    <tr>\n",
       "      <th>1621</th>\n",
       "      <td>Ahmed</td>\n",
       "      <td>Saleh</td>\n",
       "      <td>2</td>\n",
       "    </tr>\n",
       "    <tr>\n",
       "      <th>1623</th>\n",
       "      <td>Mustafa</td>\n",
       "      <td>Saad</td>\n",
       "      <td>0</td>\n",
       "    </tr>\n",
       "    <tr>\n",
       "      <th>1624</th>\n",
       "      <td>Marwan</td>\n",
       "      <td>Radwan</td>\n",
       "      <td>2</td>\n",
       "    </tr>\n",
       "    <tr>\n",
       "      <th>1627</th>\n",
       "      <td>Amr</td>\n",
       "      <td>Gaber</td>\n",
       "      <td>0</td>\n",
       "    </tr>\n",
       "  </tbody>\n",
       "</table>\n",
       "</div>"
      ],
      "text/plain": [
       "     first_name last_name  level\n",
       "id                              \n",
       "1620   Muhammad    Khalil      4\n",
       "1621      Ahmed     Saleh      2\n",
       "1623    Mustafa      Saad      0\n",
       "1624     Marwan    Radwan      2\n",
       "1627        Amr     Gaber      0"
      ]
     },
     "execution_count": 25,
     "metadata": {},
     "output_type": "execute_result"
    }
   ],
   "source": [
    "df.dropna(how=\"any\", subset=[\"first_name\", \"last_name\"])"
   ]
  }
 ],
 "metadata": {
  "kernelspec": {
   "display_name": "Python 3 (ipykernel)",
   "language": "python",
   "name": "python3"
  },
  "language_info": {
   "codemirror_mode": {
    "name": "ipython",
    "version": 3
   },
   "file_extension": ".py",
   "mimetype": "text/x-python",
   "name": "python",
   "nbconvert_exporter": "python",
   "pygments_lexer": "ipython3",
   "version": "3.10.9"
  }
 },
 "nbformat": 4,
 "nbformat_minor": 5
}
